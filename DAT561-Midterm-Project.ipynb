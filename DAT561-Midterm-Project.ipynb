{
 "cells": [
  {
   "cell_type": "markdown",
   "metadata": {},
   "source": [
    "# Smart Logistic System in Walmart "
   ]
  },
  {
   "cell_type": "code",
   "execution_count": 1,
   "metadata": {},
   "outputs": [],
   "source": [
    "import numpy as np   #Numpy package would be the only package you could use for this project."
   ]
  },
  {
   "cell_type": "markdown",
   "metadata": {},
   "source": [
    "## Problem1: The Estimated Value for Each Warehouse\n",
    "#### Note that you are not allowed to use dynamic programming in this problem!"
   ]
  },
  {
   "cell_type": "markdown",
   "metadata": {},
   "source": [
    "In this problem 1, calculating the estimated total value and accumulated weight of each of 300 warehouses will be helpful for the later decision of cross-warehouse-transshipment solution in problem 2. "
   ]
  },
  {
   "cell_type": "markdown",
   "metadata": {},
   "source": [
    "### Step 1: Estimate the Maximized Total Value and Accumulated Weight of One Warehouse"
   ]
  },
  {
   "cell_type": "markdown",
   "metadata": {},
   "source": [
    "Read the dataset from  \"Products.csv\" first."
   ]
  },
  {
   "cell_type": "code",
   "execution_count": 2,
   "metadata": {},
   "outputs": [
    {
     "name": "stdout",
     "output_type": "stream",
     "text": [
      "[[112 100 108 ... 117  60  49]\n",
      " [ 96 105 117 ...  18  93  93]\n",
      " [115  95  93 ...  83  78  51]\n",
      " ...\n",
      " [ 35  91  66 ...  71  30 107]\n",
      " [ 44  84  21 ...  79  82  42]\n",
      " [ 97  47  19 ... 112  67  52]]\n",
      "[[ 66.   170.66 130.   ... 119.31  23.    35.33]\n",
      " [110.69  68.57  67.5  ...  24.18  98.03 129.91]\n",
      " [169.25   8.86 102.68 ...  14.51 154.39  68.15]\n",
      " ...\n",
      " [  6.45  79.33  79.84 ...  83.18  50.49  36.6 ]\n",
      " [ 72.16 106.14  30.97 ...  99.78  92.69  57.08]\n",
      " [120.     5.91  22.29 ...  84.7   10.8   86.81]]\n"
     ]
    }
   ],
   "source": [
    "file_name='Products.csv'\n",
    "f = open(file_name,'r') #open file using file_name\n",
    "lines = f.readlines() #read all lines from file\n",
    "\n",
    "weight_list = []\n",
    "value_list = []\n",
    "\n",
    "for row in range(len(lines)):\n",
    "    if((row+1) % 3 == 1):\n",
    "        weight_list.append([eval(i) for i in lines[row].strip('\\n').split(',')])\n",
    "    elif((row+1) % 3 == 2):\n",
    "        value_list.append([eval(i) for i in lines[row].strip('\\n').split(',')])\n",
    "\n",
    "#convert list to array\n",
    "weights = np.array(weight_list)\n",
    "values = np.array(value_list)\n",
    "\n",
    "print(weights)\n",
    "print(values)"
   ]
  },
  {
   "cell_type": "markdown",
   "metadata": {},
   "source": [
    "Now let's get the estimated value and weight for one warehouse.You need to write a function \"get_max_value\" which could do the following 4 things:\n",
    "1. Calculate the Value_Weight Ratio for each product. \n",
    "2. Sort the calculated Value_Weight Ratios in descending order. \n",
    "3. Select the products from the top of the descending order to the bottom while looking at the accumulated         weight of products to make sure the accumulated weight does not exceed the warehouse weight capacity.\n",
    "4. Calculate the  corresponding estimated value for this warehouse after finishing product selection.\n",
    "\n",
    "Remember, take every product into consideration; otherwise, you may have the risk of missing products. You want to put as many product with highest Value_Weight Ratio as possible before reaching the weight capacity for this warehouse."
   ]
  },
  {
   "cell_type": "code",
   "execution_count": 3,
   "metadata": {},
   "outputs": [
    {
     "data": {
      "text/plain": [
       "(1076.27, 650)"
      ]
     },
     "execution_count": 3,
     "metadata": {},
     "output_type": "execute_result"
    }
   ],
   "source": [
    "def get_max_value(weight,value,capacity):          #add capacity to the parentheses\n",
    "    \n",
    "    ratios = value/weight #calculate Value_Weight Ratio for each product\n",
    "    \n",
    "    product_list = [[weight[j],value[j],ratios[j]] for j in range(50)]\n",
    "    product_list.sort(key=lambda x: x[2],reverse=True) #Sort the ratios in descending ordered\n",
    "    \n",
    "   \n",
    "    current_weight = 0\n",
    "    total_value = 0\n",
    "     \n",
    "    for k in range(len(product_list)):\n",
    "        #Only append product when total weight is within limit.\n",
    "        if(product_list[k][0] <= capacity - current_weight):\n",
    "            current_weight += product_list[k][0]\n",
    "            total_value += product_list[k][1]\n",
    "    \n",
    "    return round(total_value,2),int(current_weight)    \n",
    "#Make sure you have calculated the total Value and accumulated Weight for One Warehouse\n",
    "get_max_value(weights[0], values[0],650)"
   ]
  },
  {
   "cell_type": "markdown",
   "metadata": {},
   "source": [
    "### Step 2: Estimate the Total Value for 300 Warehouses\n",
    "Let's apply the same calculation process of step 1 for one warehouse to the 299 warehouses left. \n",
    "\n",
    "Keep in mind that calculating the estimated total value and accumulated weight of 300 warehouses will be helpful for the later decision of cross-warehouse-transshipment solution in problem 2. "
   ]
  },
  {
   "cell_type": "code",
   "execution_count": 4,
   "metadata": {},
   "outputs": [
    {
     "name": "stdout",
     "output_type": "stream",
     "text": [
      "[[1076.27, 650], [976.78, 648], [1231.7, 644], [1003.49, 649], [1099.97, 645], [1009.18, 650], [1196.45, 648], [975.12, 647], [1009.39, 648], [1054.0, 649], [948.03, 646], [1102.16, 648], [1133.12, 648], [1110.68, 645], [938.15, 644], [1059.3, 634], [1174.39, 650], [997.17, 649], [998.07, 641], [986.91, 642], [1221.07, 650], [1032.85, 649], [1046.92, 648], [1076.23, 649], [1090.61, 647], [1074.56, 650], [1050.91, 649], [1079.36, 649], [1040.33, 646], [1063.54, 647], [1036.14, 638], [1019.95, 650], [1127.27, 647], [1205.91, 646], [993.12, 647], [1078.94, 639], [1029.04, 650], [1221.12, 641], [1099.67, 649], [1114.26, 647], [1144.09, 650], [1007.43, 650], [1057.57, 649], [1158.73, 650], [1079.43, 647], [1120.63, 647], [1182.04, 649], [1059.25, 650], [1085.19, 650], [1088.89, 641], [1057.04, 650], [1225.87, 650], [915.62, 646], [1011.28, 641], [1039.84, 650], [1130.57, 649], [1013.58, 648], [1088.36, 650], [1095.93, 646], [1078.29, 636], [1058.07, 646], [1061.11, 650], [1034.35, 648], [1180.48, 648], [1002.03, 649], [1197.93, 648], [966.49, 649], [986.07, 649], [1168.5, 648], [1073.29, 642], [1135.83, 649], [1000.94, 638], [1061.49, 650], [1208.64, 650], [1175.79, 650], [1000.59, 649], [988.41, 647], [1030.26, 647], [974.54, 647], [983.66, 650], [1117.85, 647], [1030.53, 644], [1099.86, 650], [974.24, 649], [1131.44, 648], [1122.62, 641], [1086.02, 650], [1110.82, 650], [1022.27, 648], [1054.96, 649], [941.02, 647], [1186.65, 650], [1048.94, 650], [1014.97, 649], [1066.64, 649], [1046.01, 642], [939.3, 649], [984.3, 643], [968.16, 650], [1076.85, 648], [1081.91, 647], [993.98, 643], [1067.1, 647], [1047.77, 643], [1036.42, 646], [1098.24, 648], [1045.74, 649], [1051.56, 650], [1024.45, 649], [1210.65, 650], [1043.38, 645], [1095.68, 649], [1039.95, 647], [1134.43, 649], [1020.12, 650], [1003.11, 643], [985.62, 646], [1143.2, 650], [960.99, 647], [1082.9, 641], [1104.47, 647], [1188.39, 648], [1130.52, 644], [1136.54, 647], [936.76, 647], [997.53, 649], [1049.21, 649], [1111.49, 647], [1028.12, 649], [1121.94, 648], [1076.83, 645], [1057.59, 643], [1252.77, 650], [975.14, 648], [1046.56, 645], [1008.81, 650], [1115.06, 650], [1196.27, 649], [1230.67, 650], [1049.89, 650], [1157.25, 650], [1251.87, 644], [1073.88, 648], [1024.87, 650], [1128.56, 650], [1063.37, 645], [1028.99, 646], [1062.66, 649], [1116.97, 642], [876.33, 642], [1020.84, 646], [1093.85, 649], [1080.2, 645], [1071.37, 649], [1183.85, 649], [982.4, 650], [1245.58, 649], [1010.04, 645], [1207.23, 649], [1083.82, 646], [1131.02, 647], [911.87, 649], [1067.94, 650], [1086.32, 650], [1105.33, 650], [1187.24, 648], [1002.23, 639], [1223.65, 649], [954.81, 650], [1172.92, 647], [1019.57, 648], [986.9, 648], [1104.78, 645], [1134.13, 648], [1046.61, 648], [1007.02, 643], [1094.91, 646], [1111.91, 641], [1095.64, 649], [1113.44, 650], [1040.48, 650], [994.89, 650], [1108.39, 645], [1000.19, 641], [934.49, 647], [1071.95, 650], [1024.89, 645], [1080.38, 650], [1160.38, 649], [1101.21, 649], [1091.09, 649], [952.71, 649], [988.91, 650], [1071.6, 650], [951.13, 650], [1056.69, 650], [1121.62, 650], [1169.0, 647], [1131.73, 647], [1174.83, 645], [1080.47, 649], [1090.03, 643], [966.13, 648], [1060.93, 644], [1070.92, 649], [984.1, 648], [1072.55, 647], [1148.66, 650], [1016.25, 650], [1131.56, 649], [1152.86, 650], [1183.52, 646], [1062.0, 650], [1036.75, 649], [1066.3, 650], [1030.26, 648], [1183.37, 650], [1107.93, 646], [1130.56, 643], [1130.11, 648], [1119.88, 650], [994.03, 637], [1092.27, 647], [1041.92, 647], [1171.57, 646], [1210.8, 650], [1164.8, 648], [1047.52, 642], [1111.01, 648], [1133.64, 647], [1115.14, 650], [1062.24, 646], [1049.76, 641], [1025.06, 648], [1009.72, 645], [1073.73, 639], [1055.16, 647], [1212.43, 639], [895.69, 646], [989.01, 644], [1009.19, 650], [1010.07, 649], [1031.57, 645], [1031.05, 647], [1096.08, 646], [1124.34, 650], [1171.02, 649], [1052.87, 645], [900.32, 640], [1105.81, 647], [1068.28, 650], [1089.85, 646], [1099.14, 649], [1083.87, 645], [1010.91, 642], [1003.65, 650], [1045.79, 638], [870.28, 650], [1184.56, 650], [1276.55, 649], [1075.65, 647], [1009.45, 649], [999.68, 647], [1177.44, 646], [1007.34, 645], [884.75, 649], [1084.04, 647], [1169.36, 650], [1002.92, 650], [1002.42, 650], [1129.07, 649], [1164.83, 650], [1098.73, 648], [1076.21, 646], [1010.44, 647], [1021.87, 650], [1120.5, 646], [949.91, 650], [1208.89, 649], [973.14, 647], [952.16, 649], [1074.04, 649], [1039.38, 646], [979.12, 645], [1025.71, 641], [1285.51, 649], [1186.5, 643], [1007.35, 650], [1176.39, 647], [1109.05, 645], [1197.05, 644], [1084.43, 644], [1056.72, 641], [1268.69, 650], [1161.44, 649], [962.74, 649], [888.8, 650], [1038.12, 643], [1200.83, 643], [1232.2, 650]]\n"
     ]
    }
   ],
   "source": [
    "warehouse_value = [] #use a list to store each warehouse's total value and weight\n",
    "weight_capacity = 650\n",
    "''' we have 300 instances and one warehouse has 3 rows on the dataset. So, we will iterate for 900'''\n",
    "for i in range(0,900,3):\n",
    "    max_value = get_max_value(weights[int(i/3)],values[int(i/3)],weight_capacity)[0]\n",
    "    total_weight = get_max_value(weights[int(i/3)],values[int(i/3)],weight_capacity)[1]\n",
    "    warehouse_value.append([max_value,total_weight])\n",
    "    \n",
    "\n",
    "print(warehouse_value)         #show the warehouse_value you generated"
   ]
  },
  {
   "cell_type": "markdown",
   "metadata": {},
   "source": [
    "## Problem 2: Top Alternative Selections\n",
    "\n",
    "In this problem, you will simulate the cross-warehouse-transshipment solutions when a random warehouse is out-of-stock during the promotion period."
   ]
  },
  {
   "cell_type": "markdown",
   "metadata": {},
   "source": [
    "### Step 1: Generate the 300*300 distance matrix and write the results to \"Distances.csv\"\n",
    "Let's generate a distance matrix among the 300 warehouses first. Each of the distances can be generated by using a normal distribution with a mean of 500 and a standard deviation of 300. \n",
    "\n",
    "Be careful, all the distances generated should be positive numbers and should be rounded to integers using the round() function. After successfully generating the distance matrix, please write it to a new CSV file called “Distances.csv”."
   ]
  },
  {
   "cell_type": "code",
   "execution_count": 5,
   "metadata": {},
   "outputs": [
    {
     "data": {
      "text/plain": [
       "array([[   0.,  360.,  400., ...,  596.,  534.,  931.],\n",
       "       [ 360.,    0.,  216., ...,   37.,  542.,  725.],\n",
       "       [ 400.,  216.,    0., ...,  628.,  787.,  318.],\n",
       "       ...,\n",
       "       [ 596.,   37.,  628., ...,    0.,  594., 1041.],\n",
       "       [ 534.,  542.,  787., ...,  594.,    0.,   31.],\n",
       "       [ 931.,  725.,  318., ..., 1041.,   31.,    0.]])"
      ]
     },
     "execution_count": 5,
     "metadata": {},
     "output_type": "execute_result"
    }
   ],
   "source": [
    "# Generate the Distance matrix 300*300\n",
    "\n",
    "up = np.random.normal(500, 300, (300,300))\n",
    "\n",
    "for i in range(300):    #generate a 300*300 upper triangle matrix\n",
    "    for j in range(300):\n",
    "        if i >= j:      #change numbers to 0 if it is not in the upper triangle\n",
    "            up[i][j] = 0\n",
    "        else:\n",
    "            if up[i][j] < 0:\n",
    "                up[i][j] = abs(up[i][j]) #change negative numbers into positive\n",
    "            up[i][j] = round(up[i][j])   #round numbers to integers\n",
    "            \n",
    "low = up.T #transpose the upper traingle matrix to get lower triangle matrix\n",
    "distances = low + up #Add the lower triangle matrix to the upper triangle matrix to get the symmetrical distances matrix\n",
    "\n",
    "    \n",
    "distances            #show the distance matrix you generated \n",
    "\n",
    "# Check your maxtrix and see if all numbers are positive and rounded to integer"
   ]
  },
  {
   "cell_type": "markdown",
   "metadata": {},
   "source": [
    "Now we are going to save the file in 'Distance.csv'"
   ]
  },
  {
   "cell_type": "code",
   "execution_count": 6,
   "metadata": {},
   "outputs": [],
   "source": [
    "f = open(\"Distances.csv\", \"w\") # We will create this file.\n",
    "\n",
    "for i in range(len(distances)):\n",
    "    for j in distances[i]:\n",
    "         f.write(str(j) + ',')   \n",
    "    f.write(\"\\n\") #change to a new line when we finish writing one row\n",
    "       \n",
    "f.close()"
   ]
  },
  {
   "cell_type": "markdown",
   "metadata": {},
   "source": [
    "### Step2：Select the Alternative Warehouse (\"Helper\")"
   ]
  },
  {
   "cell_type": "markdown",
   "metadata": {},
   "source": [
    "Marlon randomly selects No.p warehouse that is out-of-stock in this simulation."
   ]
  },
  {
   "cell_type": "code",
   "execution_count": 7,
   "metadata": {},
   "outputs": [
    {
     "data": {
      "text/plain": [
       "176"
      ]
     },
     "execution_count": 7,
     "metadata": {},
     "output_type": "execute_result"
    }
   ],
   "source": [
    "'''p is offered by Malron. Do not change the code below.'''\n",
    "\n",
    "p=np.random.randint(0,300) \n",
    "p"
   ]
  },
  {
   "cell_type": "markdown",
   "metadata": {},
   "source": [
    "There are 3 things to do:\n",
    "1. Based on the generated p, find the corresponding distance between this warehouse No.p and each of the other Helpers from the distance matrix you generated in Step 1 of Problem 2.\n",
    "2. Find the corresponding total value and total weight of all products stored in each Helper (you have calculated these numbers in Problem 1).\n",
    "3. Calculate the “Value_per_Weight” ratio for each Helper, sort the ratio in descending order and choose top helpers with 10 highest “Value_per_Weight”ratios.\n",
    "\n",
    "###  $Value\\_per\\_Weight = \\frac{Total\\_Value}{Total\\_Weight}-Distance\\times\\ Transpotation\\_Cost$\n",
    "\n",
    "#### Note that you are not allowed to use dynamic programming in this problem!"
   ]
  },
  {
   "cell_type": "code",
   "execution_count": 8,
   "metadata": {},
   "outputs": [
    {
     "data": {
      "text/plain": [
       "[[4, 1.4203798449612404],\n",
       " [123, 1.321630602782071],\n",
       " [63, 1.2217283950617284],\n",
       " [28, 1.1904179566563466],\n",
       " [217, 1.1750619195046441],\n",
       " [201, 1.1552255054432348],\n",
       " [37, 1.0950234009360371],\n",
       " [151, 0.7854391371340523],\n",
       " [84, 0.7560493827160495],\n",
       " [221, 0.7504866562009419]]"
      ]
     },
     "execution_count": 8,
     "metadata": {},
     "output_type": "execute_result"
    }
   ],
   "source": [
    "indexes = list(range(300)) #Generate the index list with continuous number from 0 to 299 to indicate each warehouse\n",
    "indexes.remove(p) #Remove the index of the provided no.p warehouse\n",
    "cost = 0.015 #Speicify the given transportation cost\n",
    "\n",
    "#Set a list to store warehouse index and value_per_weight\n",
    "vw_ratio = [[i,warehouse_value[i][0]/warehouse_value[i][1]-distances[p][i]*cost] for i in indexes]\n",
    "vw_ratio.sort(key=lambda x: x[1], reverse=True) #Sort the value_per_weight of helpers from high to low\n",
    "vw_ratio[:10] #Show only the 10 highest v_p_w  \n",
    "    \n",
    "    \n",
    "# Show the cross-warehouse-transshipment solution when No.p warehouse is out-of-stock during the promotion period. \n",
    "# The solution should contain Helper indexes and the corresponding \"Value_Per_Weight\" ratios. "
   ]
  },
  {
   "cell_type": "markdown",
   "metadata": {},
   "source": [
    "#### Note: Due to random assignment of No.p warehouse, it's acceptable if your recommended solution changes each time you re-run the code. "
   ]
  }
 ],
 "metadata": {
  "kernelspec": {
   "display_name": "Python 3",
   "language": "python",
   "name": "python3"
  },
  "language_info": {
   "codemirror_mode": {
    "name": "ipython",
    "version": 3
   },
   "file_extension": ".py",
   "mimetype": "text/x-python",
   "name": "python",
   "nbconvert_exporter": "python",
   "pygments_lexer": "ipython3",
   "version": "3.7.6"
  }
 },
 "nbformat": 4,
 "nbformat_minor": 2
}
